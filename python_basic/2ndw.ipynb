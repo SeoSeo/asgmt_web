{
 "cells": [
  {
   "attachments": {},
   "cell_type": "markdown",
   "metadata": {},
   "source": [
    "# 과제\n",
    "박인상 강사님"
   ]
  },
  {
   "attachments": {},
   "cell_type": "markdown",
   "metadata": {},
   "source": [
    "### 2023-01-20"
   ]
  },
  {
   "attachments": {},
   "cell_type": "markdown",
   "metadata": {},
   "source": [
    "#### 과제 1 - BMI 지수 계산"
   ]
  },
  {
   "cell_type": "code",
   "execution_count": 8,
   "metadata": {},
   "outputs": [],
   "source": [
    "import time\n",
    "import pandas as pd\n",
    "import numpy as np\n",
    "import matplotlib.pyplot as plt\n",
    "from matplotlib import font_manager, rc\n",
    "import platform  # 한글 깨짐 import platform 이용\n",
    "if platform.system() == 'Windows':\n",
    "# 윈도우인 경우\n",
    "    font_name = font_manager.FontProperties(fname=\"c:/Windows/Fonts/malgun.ttf\").get_name()  # 맑음고딕\n",
    "    rc('font', family=font_name)\n",
    "else:\n",
    "# Mac 인 경우\n",
    "    rc('font', family='AppleGothic')  # 애플고딕\n",
    "\n",
    "def checkBMI(bmi):\n",
    "    numlist = [18.5, 24.9, 29.9, 40.0, 40.1]\n",
    "    typelist = ['저체중','정상체중','과체중','비만','고도비만']\n",
    "    if 0 <= bmi <= numlist[0]:\n",
    "        return typelist[0] # 저체중\n",
    "    elif numlist[0] < bmi <= numlist[1]:\n",
    "        return typelist[1] # 정상체중\n",
    "    elif numlist[1] < bmi <= numlist[2]:\n",
    "        return typelist[2] # 과체중\n",
    "    elif numlist[2] < bmi <= numlist[3]:\n",
    "        return typelist[3]\n",
    "    elif numlist[4] <= bmi:\n",
    "        return typelist[4]\n",
    "\n",
    "def show_bmi():\n",
    "    data = {'BMI': ['18.5 미만', '18.5 이상 24.9 이하', '25.0 이상 29.9 이하', '30.0 이상 39.9이하', '40.0 이상'], '상태' : ['저체중', '정상체중', '과체중', '비만', '고도비만']}\n",
    "    df = pd.DataFrame(data)\n",
    "\n",
    "    fig, ax = plt.subplots()\n",
    "    ax.axis('tight')\n",
    "    ax.axis('off')\n",
    "\n",
    "    # use the dataframe's values as celltext\n",
    "    cellText = df.values\n",
    "    colLabels = df.columns\n",
    "\n",
    "    the_table = ax.table(cellText=cellText,colLabels=colLabels,rowLabels=None, cellLoc = 'center',loc='center')\n",
    "    the_table.auto_set_font_size(False)\n",
    "    the_table.set_fontsize(14)\n",
    "    the_table.scale(1, 1.5)\n",
    "\n",
    "    for key, cell in the_table.get_celld().items():\n",
    "        cell.set_linewidth(0)\n",
    "\n",
    "    # Set the background color of each row\n",
    "    colors = ['#686B73','#797D4C','#347C3A','#ECD3B7','#79312E','#3C413F']\n",
    "    for i in range(len(cellText)+1):\n",
    "        for j in range(len(data.keys())):\n",
    "            the_table[i,j].set_facecolor(colors[i])\n",
    "    plt.title('BMI 지수 표')\n",
    "    plt.show()\n",
    "\n",
    "def BMICalculator():\n",
    "    print('과제1\\nBMI(체질량지수) 를 계산하기.')\n",
    "\n",
    "    time.sleep(0.5)\n",
    "    while True:\n",
    "        try:\n",
    "            weight = input('몸무게를 kg 단위로 소수점 2 이하로 입력하시오: ')\n",
    "            height = input('키를 m 단위로 소수점 2 이하로 입력하시오: ')\n",
    "            weight = float(weight)\n",
    "            height = float(height)\n",
    "            bmi = round(weight/(height**2),2)\n",
    "            print(f'입력하신 몸무게({weight})와 키({height})에 대한 BMI지수는 {bmi}입니다.\\n이는 {checkBMI(bmi)} 상태에 해당됩니다. 자세한 사항은 아래의 표를 참조하세요.')\n",
    "            show_bmi()\n",
    "            break\n",
    "        except:\n",
    "            print('제대로 된 단위로 입력하시오. 처음으로 돌아갑니다.')\n",
    "            time.sleep(0.2)"
   ]
  },
  {
   "cell_type": "code",
   "execution_count": 9,
   "metadata": {},
   "outputs": [
    {
     "name": "stdout",
     "output_type": "stream",
     "text": [
      "과제1\n",
      "BMI(체질량지수) 를 계산하기.\n",
      "입력하신 몸무게(65.6)와 키(1.66)에 대한 BMI지수는 23.81입니다.\n",
      "이는 정상체중 상태에 해당됩니다. 자세한 사항은 아래의 표를 참조하세요.\n"
     ]
    },
    {
     "data": {
      "image/png": "[encoded data removed]",
      "text/plain": [
       "<Figure size 432x288 with 1 Axes>"
      ]
     },
     "metadata": {
      "needs_background": "light"
     },
     "output_type": "display_data"
    }
   ],
   "source": [
    "BMICalculator()"
   ]
  },
  {
   "attachments": {},
   "cell_type": "markdown",
   "metadata": {},
   "source": [
    "#### 과제2 - 로또 번호 계산하기"
   ]
  },
  {
   "cell_type": "code",
   "execution_count": 10,
   "metadata": {},
   "outputs": [],
   "source": [
    "import random\n",
    "def lottoGenerator():\n",
    "    print('과제2\\n자동 로또 번호 출력하기.')\n",
    "    while True:\n",
    "        try:\n",
    "            line = int(input('로또를 몇 줄 출력하시겠습니까?(최소 1, 최대 10) : '))\n",
    "            if 1<= line <= 10:\n",
    "                numbers = []\n",
    "                for i in range(line):\n",
    "                    lotto_numbers = random.sample(range(1, 46), 6)\n",
    "                    lotto_numbers.sort()\n",
    "                    numbers.append(lotto_numbers)\n",
    "                    print(f'{i+1}번 : {lotto_numbers}')\n",
    "                break\n",
    "        except:\n",
    "            print('제대로 된 숫자를 입력해 주십시오.')"
   ]
  },
  {
   "cell_type": "code",
   "execution_count": 11,
   "metadata": {},
   "outputs": [
    {
     "name": "stdout",
     "output_type": "stream",
     "text": [
      "과제2\n",
      "자동 로또 번호 출력하기.\n",
      "1번 : [4, 10, 14, 29, 36, 39]\n",
      "2번 : [8, 11, 12, 24, 32, 38]\n",
      "3번 : [6, 8, 23, 24, 26, 34]\n",
      "4번 : [19, 21, 31, 34, 38, 42]\n",
      "5번 : [10, 14, 16, 30, 33, 36]\n"
     ]
    }
   ],
   "source": [
    "lottoGenerator()"
   ]
  },
  {
   "attachments": {},
   "cell_type": "markdown",
   "metadata": {},
   "source": [
    "# \n",
    "---"
   ]
  }
 ],
 "metadata": {
  "kernelspec": {
   "display_name": "base",
   "language": "python",
   "name": "python3"
  },
  "language_info": {
   "codemirror_mode": {
    "name": "ipython",
    "version": 3
   },
   "file_extension": ".py",
   "mimetype": "text/x-python",
   "name": "python",
   "nbconvert_exporter": "python",
   "pygments_lexer": "ipython3",
   "version": "3.9.7"
  },
  "orig_nbformat": 4,
  "vscode": {
   "interpreter": {
    "hash": "e918c994cc1bff400464b7b0ec97a8187983989935d99cde10dd228378e9d0f8"
   }
  }
 },
 "nbformat": 4,
 "nbformat_minor": 2
}
