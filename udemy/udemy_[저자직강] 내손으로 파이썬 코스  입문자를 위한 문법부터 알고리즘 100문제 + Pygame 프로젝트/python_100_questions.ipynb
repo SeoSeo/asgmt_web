{
 "cells": [
  {
   "attachments": {},
   "cell_type": "markdown",
   "metadata": {},
   "source": [
    "# [저자직강] 내손으로 파이썬 코스 : 입문자를 위한 문법부터 알고리즘 100문제 + Pygame 프로젝트\n",
    "\n",
    "- link : https://kmooc.udemy.com/course/nspython/learn/lecture/33612688"
   ]
  },
  {
   "attachments": {},
   "cell_type": "markdown",
   "metadata": {},
   "source": [
    "## 파이썬 문제들 스스로 풀기"
   ]
  },
  {
   "attachments": {},
   "cell_type": "markdown",
   "metadata": {},
   "source": [
    "#### #1. 다음 출력문을 출력하시오\n",
    "\n",
    "- 출력 : \n",
    "    it's fine"
   ]
  },
  {
   "cell_type": "code",
   "execution_count": 3,
   "metadata": {},
   "outputs": [
    {
     "name": "stdout",
     "output_type": "stream",
     "text": [
      "it's fine\n"
     ]
    }
   ],
   "source": [
    "print(\"it's fine\")"
   ]
  },
  {
   "attachments": {},
   "cell_type": "markdown",
   "metadata": {},
   "source": [
    "#### #2. 한 줄 주석과 여러 줄 주석을 사용해보시오."
   ]
  },
  {
   "cell_type": "code",
   "execution_count": 5,
   "metadata": {},
   "outputs": [
    {
     "data": {
      "text/plain": [
       "'\\n저런 주석\\n'"
      ]
     },
     "execution_count": 5,
     "metadata": {},
     "output_type": "execute_result"
    }
   ],
   "source": [
    "# 한 줄\n",
    "# 여\n",
    "# 러\n",
    "# 줄\n",
    "'''\n",
    "이런 주석\n",
    "'''\n",
    "\"\"\"\n",
    "저런 주석\n",
    "\"\"\"\n"
   ]
  },
  {
   "attachments": {},
   "cell_type": "markdown",
   "metadata": {},
   "source": [
    "#### #3. 다음 문장을 출력하시오(큰 따옴표 포함)\n",
    "\n",
    "- 출력 :\n",
    "    \"Life is too short, we need python!\""
   ]
  },
  {
   "cell_type": "code",
   "execution_count": 6,
   "metadata": {},
   "outputs": [
    {
     "name": "stdout",
     "output_type": "stream",
     "text": [
      "\"Life is too short, we need python!\"\n"
     ]
    }
   ],
   "source": [
    "print('\"Life is too short, we need python!\"')"
   ]
  },
  {
   "attachments": {},
   "cell_type": "markdown",
   "metadata": {},
   "source": [
    "#### #4. 다음 문장을 출력하시오.\n",
    "\n",
    "- 출력:\n",
    "    you'll only see a \"C:\\Program files\" folder."
   ]
  },
  {
   "cell_type": "code",
   "execution_count": 9,
   "metadata": {},
   "outputs": [
    {
     "name": "stdout",
     "output_type": "stream",
     "text": [
      "you'll only see a \"C:\\Program files\" folder.\n"
     ]
    }
   ],
   "source": [
    "print(\"you'll only see a \\\"C:\\\\Program files\\\" folder.\")"
   ]
  },
  {
   "attachments": {},
   "cell_type": "markdown",
   "metadata": {},
   "source": [
    "#### #5. 곱하기 연산자를 사용해서 다음과 같이 출력하시오.\n",
    "\n",
    "- 출력:\n",
    "\n",
    "    --------------<br>\n",
    "    절취선<br>\n",
    "    --------------<br>"
   ]
  },
  {
   "cell_type": "code",
   "execution_count": 12,
   "metadata": {},
   "outputs": [
    {
     "name": "stdout",
     "output_type": "stream",
     "text": [
      "--------------------\n",
      "절취선\n",
      "--------------------\n"
     ]
    }
   ],
   "source": [
    "print('-'*20+'\\n절취선\\n'+'-'*20)"
   ]
  },
  {
   "attachments": {},
   "cell_type": "markdown",
   "metadata": {},
   "source": [
    "#### #6. num1 = \"72\", num2 = 72를 선언하고 type()함수를 통해 아래와 같이 확인하시오."
   ]
  },
  {
   "cell_type": "code",
   "execution_count": 13,
   "metadata": {},
   "outputs": [
    {
     "name": "stdout",
     "output_type": "stream",
     "text": [
      "num1은 문자열로서 <class 'str'> 데이터이고 num2는 <class 'int'> 데이터이다.\n"
     ]
    }
   ],
   "source": [
    "num1=\"72\"\n",
    "num2=72\n",
    "print(f'num1은 문자열로서 {type(num1)} 데이터이고 num2는 {type(num2)} 데이터이다.')"
   ]
  },
  {
   "attachments": {},
   "cell_type": "markdown",
   "metadata": {},
   "source": [
    "#### #7. num1 = \"72\", num2 = 72를 선언하고 num1을 정수로 형변환 후 '==' 연산자로 두 수가 같은지 판별하시오."
   ]
  },
  {
   "cell_type": "code",
   "execution_count": 14,
   "metadata": {},
   "outputs": [
    {
     "name": "stdout",
     "output_type": "stream",
     "text": [
      "True\n"
     ]
    }
   ],
   "source": [
    "num1=\"72\"\n",
    "num2=72\n",
    "num1 = int(num1)\n",
    "print(num1==num2)"
   ]
  },
  {
   "attachments": {},
   "cell_type": "markdown",
   "metadata": {},
   "source": [
    "#### #8. 스페이스 바 없이 아래와 같은 문장을 출력하시오.\n",
    "\n",
    "- 출력:\n",
    "    아버지가 방에 들어가신다."
   ]
  },
  {
   "cell_type": "code",
   "execution_count": 15,
   "metadata": {},
   "outputs": [
    {
     "name": "stdout",
     "output_type": "stream",
     "text": [
      "아버지가 방에 들어가신다.\n"
     ]
    }
   ],
   "source": [
    "print('아버지가','방에','들어가신다.')"
   ]
  },
  {
   "attachments": {},
   "cell_type": "markdown",
   "metadata": {},
   "source": [
    "#### #9. 단 하나의 print()를 이용하여 아래와 같이 출력하시오.\n",
    "\n",
    "- 출력:\n",
    "\n",
    "    서울에서 제주도를 가는 방법\n",
    "    1. 비행기를 탄다.\n",
    "    2. 수영을 한다."
   ]
  },
  {
   "cell_type": "code",
   "execution_count": 16,
   "metadata": {},
   "outputs": [
    {
     "name": "stdout",
     "output_type": "stream",
     "text": [
      "서울에서 제주도를 가는 방법\n",
      "1. 비행기를 탄다.\n",
      "2. 수영을 한다.\n"
     ]
    }
   ],
   "source": [
    "print('서울에서 제주도를 가는 방법\\n1. 비행기를 탄다.\\n2. 수영을 한다.')"
   ]
  },
  {
   "attachments": {},
   "cell_type": "markdown",
   "metadata": {},
   "source": [
    "#### #10. a와 b 변수에 정수를 할당하고 사칙연산 결과를 하나의 print 함수로 출력하시오\n",
    "\n",
    "- a=2, b=4 일때"
   ]
  },
  {
   "cell_type": "code",
   "execution_count": 17,
   "metadata": {},
   "outputs": [
    {
     "name": "stdout",
     "output_type": "stream",
     "text": [
      "6 -2 8 0.5\n"
     ]
    }
   ],
   "source": [
    "a=2\n",
    "b=4\n",
    "print((a+b),(a-b),(a*b),(a/b))"
   ]
  },
  {
   "cell_type": "code",
   "execution_count": null,
   "metadata": {},
   "outputs": [],
   "source": []
  },
  {
   "cell_type": "code",
   "execution_count": null,
   "metadata": {},
   "outputs": [],
   "source": []
  }
 ],
 "metadata": {
  "kernelspec": {
   "display_name": "Python 3",
   "language": "python",
   "name": "python3"
  },
  "language_info": {
   "codemirror_mode": {
    "name": "ipython",
    "version": 3
   },
   "file_extension": ".py",
   "mimetype": "text/x-python",
   "name": "python",
   "nbconvert_exporter": "python",
   "pygments_lexer": "ipython3",
   "version": "3.11.1"
  },
  "orig_nbformat": 4,
  "vscode": {
   "interpreter": {
    "hash": "50b517f4d44fb3398047e23b4d38892060cbcb75f32650894fd44c8145b0fb9c"
   }
  }
 },
 "nbformat": 4,
 "nbformat_minor": 2
}
